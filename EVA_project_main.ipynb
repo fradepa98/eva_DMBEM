{
 "cells": [
  {
   "cell_type": "markdown",
   "metadata": {
    "tags": []
   },
   "source": [
    "#  Chalet heat transfer analysis (EVA DMBEM Project)\n",
    "\n",
    "\n",
    "## Physical analysis and mathematical model\n",
    "\n",
    "### Location: Zermatt, CH"
   ]
  },
  {
   "cell_type": "code",
   "execution_count": 1,
   "metadata": {},
   "outputs": [],
   "source": [
    "import numpy as np\n",
    "import pandas as pd\n",
    "import matplotlib.pyplot as plt\n",
    "import dm4bem\n",
    "import math\n",
    "from dm4bem import read_epw, sol_rad_tilt_surf\n",
    "import tuto\n",
    "\n",
    "# importing data extracted from weather data\n",
    "\n",
    "rad_E = pd.read_csv(r'C:\\Users\\Mario\\Desktop\\ZHAW_modules\\HS2021\\EVA_DMBEM\\depalfra_project\\tot_rad_E.csv')\n",
    "\n",
    "rad_ER = pd.read_csv(r'C:\\Users\\Mario\\Desktop\\ZHAW_modules\\HS2021\\EVA_DMBEM\\depalfra_project\\tot_rad_ER.csv')\n",
    "\n",
    "rad_G = pd.read_csv(r'C:\\Users\\Mario\\Desktop\\ZHAW_modules\\HS2021\\EVA_DMBEM\\depalfra_project\\tot_rad_G.csv')\n",
    "\n",
    "rad_N = pd.read_csv(r'C:\\Users\\Mario\\Desktop\\ZHAW_modules\\HS2021\\EVA_DMBEM\\depalfra_project\\tot_rad_N.csv')\n",
    "\n",
    "rad_S = pd.read_csv(r'C:\\Users\\Mario\\Desktop\\ZHAW_modules\\HS2021\\EVA_DMBEM\\depalfra_project\\tot_rad_S.csv')\n",
    "\n",
    "rad_W = pd.read_csv(r'C:\\Users\\Mario\\Desktop\\ZHAW_modules\\HS2021\\EVA_DMBEM\\depalfra_project\\tot_rad_W.csv')\n",
    "\n",
    "rad_WR = pd.read_csv(r'C:\\Users\\Mario\\Desktop\\ZHAW_modules\\HS2021\\EVA_DMBEM\\depalfra_project\\tot_rad_WR.csv')\n",
    "\n",
    "T_out = pd.read_csv(r'C:\\Users\\Mario\\Desktop\\ZHAW_modules\\HS2021\\EVA_DMBEM\\depalfra_project\\T_out.csv')\n",
    "\n",
    "# Physical properties\n",
    "# ===================\n",
    "wall = {'Conductivity': [0.18,0.040,0.12,0.08,1.4],\n",
    "        'Density': [800, 16, 600,2000,2500],\n",
    "        'Specific heat': [2385, 1210, 2385,920,750],\n",
    "        'Width': [0.1, 0.2, 0.1, 0.2,0.004],\n",
    "        'Slices': [ 2, 2, 2, 2, 1]}\n",
    "\n",
    "wall = pd.DataFrame(wall, index=['Beech', 'Insulation', 'Oak','Brick','Glass'])\n",
    "\n",
    "air = {'Density': 1.007,\n",
    "       'Specific heat': 1150}\n",
    "\n",
    "# altitude: 1608 m"
   ]
  },
  {
   "cell_type": "markdown",
   "metadata": {
    "tags": []
   },
   "source": [
    "Let’s consider the heat transfer through a wall which separates the outside air, at temperature $T_o$ from the inside air. Heat $Q_h$ is added to the inside air by a fan-coil (see figure). Moreover, in the pictures below the thermal circuit of the single walls, the assembled circuit and an iconic representation of the chalet are given.\n",
    "\n"
   ]
  },
  {
   "cell_type": "markdown",
   "metadata": {},
   "source": [
    "![cube](chalet_image.PNG)\n",
    "\n",
    "![cube](tc_chalet.JPG)"
   ]
  },
  {
   "cell_type": "markdown",
   "metadata": {},
   "source": [
    "The thermal properties of the wall and of the air are:"
   ]
  },
  {
   "cell_type": "code",
   "execution_count": 2,
   "metadata": {
    "tags": []
   },
   "outputs": [
    {
     "data": {
      "text/html": [
       "<div>\n",
       "<style scoped>\n",
       "    .dataframe tbody tr th:only-of-type {\n",
       "        vertical-align: middle;\n",
       "    }\n",
       "\n",
       "    .dataframe tbody tr th {\n",
       "        vertical-align: top;\n",
       "    }\n",
       "\n",
       "    .dataframe thead th {\n",
       "        text-align: right;\n",
       "    }\n",
       "</style>\n",
       "<table border=\"1\" class=\"dataframe\">\n",
       "  <thead>\n",
       "    <tr style=\"text-align: right;\">\n",
       "      <th></th>\n",
       "      <th>Conductivity</th>\n",
       "      <th>Density</th>\n",
       "      <th>Specific heat</th>\n",
       "      <th>Width</th>\n",
       "      <th>Slices</th>\n",
       "    </tr>\n",
       "  </thead>\n",
       "  <tbody>\n",
       "    <tr>\n",
       "      <th>Beech</th>\n",
       "      <td>0.18</td>\n",
       "      <td>800</td>\n",
       "      <td>2385</td>\n",
       "      <td>0.100</td>\n",
       "      <td>2</td>\n",
       "    </tr>\n",
       "    <tr>\n",
       "      <th>Insulation</th>\n",
       "      <td>0.04</td>\n",
       "      <td>16</td>\n",
       "      <td>1210</td>\n",
       "      <td>0.200</td>\n",
       "      <td>2</td>\n",
       "    </tr>\n",
       "    <tr>\n",
       "      <th>Oak</th>\n",
       "      <td>0.12</td>\n",
       "      <td>600</td>\n",
       "      <td>2385</td>\n",
       "      <td>0.100</td>\n",
       "      <td>2</td>\n",
       "    </tr>\n",
       "    <tr>\n",
       "      <th>Brick</th>\n",
       "      <td>0.08</td>\n",
       "      <td>2000</td>\n",
       "      <td>920</td>\n",
       "      <td>0.200</td>\n",
       "      <td>2</td>\n",
       "    </tr>\n",
       "    <tr>\n",
       "      <th>Glass</th>\n",
       "      <td>1.40</td>\n",
       "      <td>2500</td>\n",
       "      <td>750</td>\n",
       "      <td>0.004</td>\n",
       "      <td>1</td>\n",
       "    </tr>\n",
       "  </tbody>\n",
       "</table>\n",
       "</div>"
      ],
      "text/plain": [
       "            Conductivity  Density  Specific heat  Width  Slices\n",
       "Beech               0.18      800           2385  0.100       2\n",
       "Insulation          0.04       16           1210  0.200       2\n",
       "Oak                 0.12      600           2385  0.100       2\n",
       "Brick               0.08     2000            920  0.200       2\n",
       "Glass               1.40     2500            750  0.004       1"
      ]
     },
     "execution_count": 2,
     "metadata": {},
     "output_type": "execute_result"
    }
   ],
   "source": [
    "wall"
   ]
  },
  {
   "cell_type": "code",
   "execution_count": 3,
   "metadata": {},
   "outputs": [
    {
     "data": {
      "text/plain": [
       "{'Density': 1.007, 'Specific heat': 1150}"
      ]
     },
     "execution_count": 3,
     "metadata": {},
     "output_type": "execute_result"
    }
   ],
   "source": [
    "air"
   ]
  },
  {
   "cell_type": "markdown",
   "metadata": {},
   "source": [
    "We'll consider the convection coefficients for indoor and outdoor:"
   ]
  },
  {
   "cell_type": "code",
   "execution_count": 4,
   "metadata": {},
   "outputs": [],
   "source": [
    "# convection coefficients, W/m² K\n",
    "\n",
    "# estimation of the outer convection coefficient by using the following empirical formula:\n",
    "\n",
    "nu = 12.94e-6\n",
    "Too = 268.15\n",
    "beta = 1/Too\n",
    "g = 9.81\n",
    "DT = 10\n",
    "L = 10\n",
    "Gr = (g*beta*DT*(L**3))/(nu**2)\n",
    "k_air = 0.046\n",
    "mu = nu*1.007\n",
    "Pr = (mu*1150)/k_air\n",
    "Ra = Gr*Pr\n",
    "Nu = 0.1*(Ra**(1/3))\n",
    "h_out = Nu*k_air/L \n",
    "\n",
    "h = pd.DataFrame([{'in': 4., 'out': h_out}])"
   ]
  },
  {
   "cell_type": "markdown",
   "metadata": {},
   "source": [
    "The dimensions of the walls are 10 x 3 m² (vertical walls) and the volume of the indoor air is 10 x 10 x 3 m³."
   ]
  },
  {
   "cell_type": "code",
   "execution_count": 5,
   "metadata": {},
   "outputs": [],
   "source": [
    "# Walls\n",
    "\n",
    "S_wall_big = 10*2.5 + 25\n",
    "S_wall = 10*2.5\n",
    "S_roof = S_wall + 25\n",
    "\n",
    "V_air = 9.6 * 9.6 * 3 + ((10/math.sqrt(2))*9.6*0.5)  # m³\n",
    "m_dot = 0.3*V_air*air['Density']/3600"
   ]
  },
  {
   "cell_type": "markdown",
   "metadata": {},
   "source": [
    "## Thermal network model\n",
    "\n",
    "\n",
    "The wall consists of three layers: exterior wood (beech), insulation and interior wood (oak). Moreover, an additional thermal circuit is derived for the roof. Every layer is discretized in 2 slices each. By adding together the resistances which are in series, the following thermal nework is obtained:\n",
    "\n",
    "> Thermal nework model of a simple wall obtained by considering the equivalent resistances of the resistanaces in series. The model contains capacities in the nodes.\n",
    "\n",
    "The circuit elements of the thermal network are the resistances and the capacities. Their values are found by using the thermo-physical properties of the materials."
   ]
  },
  {
   "cell_type": "markdown",
   "metadata": {
    "tags": []
   },
   "source": [
    "### Resistances and capacities in the thermal network\n",
    "\n",
    "The thermal resistances for conduction are of the form:\n",
    "$$R_{cd} = \\frac{w}{\\lambda S}$$\n",
    "where:\n",
    "\n",
    "- $w$ is the width of the material, m;\n",
    "- $\\lambda$ - thermal conductvity, W/m K;\n",
    "- $S$ - surface area of the wall, m²"
   ]
  },
  {
   "cell_type": "code",
   "execution_count": 6,
   "metadata": {},
   "outputs": [],
   "source": [
    "# conduction (big walls)\n",
    "R_cd = wall['Width'] / (wall['Conductivity'] * S_wall_big)"
   ]
  },
  {
   "cell_type": "markdown",
   "metadata": {},
   "source": [
    "The thermals resistance for convection are of the form:\n",
    "$$R_{cv} = \\frac{1}{h S}$$\n",
    "where:\n",
    "- $h$ is the convection coefficient, W/m² K;\n",
    "- $S$ - surface area of the wall, m²."
   ]
  },
  {
   "cell_type": "code",
   "execution_count": 7,
   "metadata": {},
   "outputs": [],
   "source": [
    "# convection (big wall)\n",
    "R_cv = 1 / (h * S_wall_big)"
   ]
  },
  {
   "cell_type": "markdown",
   "metadata": {
    "tags": []
   },
   "source": [
    "The thermal capacities of the walls are of the form:\n",
    "$$C_{wall}= \\rho_{wall} c_{p, wall} w_{wall} S_{wall}$$"
   ]
  },
  {
   "cell_type": "code",
   "execution_count": 8,
   "metadata": {},
   "outputs": [],
   "source": [
    "C_wall_big = wall['Density'] * wall['Specific heat'] * wall['Width'] * S_wall_big\n",
    "C_wall = wall['Density'] * wall['Specific heat'] * wall['Width'] * S_wall\n",
    "C_wall_roof = wall['Density'] * wall['Specific heat'] * wall['Width'] * S_roof"
   ]
  },
  {
   "cell_type": "markdown",
   "metadata": {
    "tags": []
   },
   "source": [
    "The thermal capacity of the air is:\n",
    "$$C_{air} = \\rho_{air} c_{air} V_{air}$$\n",
    "\n",
    "Kp is the proportional coefficient for the control system"
   ]
  },
  {
   "cell_type": "code",
   "execution_count": 9,
   "metadata": {},
   "outputs": [],
   "source": [
    "Gv = air['Specific heat']*m_dot\n",
    "Kp = 1000\n",
    "Qa = 2000\n",
    "Ca = air['Density'] * air['Specific heat'] * V_air"
   ]
  },
  {
   "cell_type": "markdown",
   "metadata": {},
   "source": [
    "## Differential algebraic equations (DAE)\n",
    "\n",
    "The number of temperature nodes and of flow branches of the thermal network depend on the number of slices obtained by the discretization of the wall:"
   ]
  },
  {
   "cell_type": "code",
   "execution_count": 10,
   "metadata": {},
   "outputs": [],
   "source": [
    "# number of temperature nodes and flow branches\n",
    "no_t = no_q = 7"
   ]
  },
  {
   "cell_type": "markdown",
   "metadata": {
    "tags": []
   },
   "source": [
    "### Conductance matrix **G**\n",
    "The resistances are grouped in the conductance matrix, which is diagonal:\n",
    "$$G = \\begin{bmatrix}\n",
    "R_0^{-1} &  &  & \\\\ \n",
    " & R_1^{-1} &  & \\\\ \n",
    " &  & ... & \\\\ \n",
    " &  &  & R_{nq}^{-1}\n",
    "\\end{bmatrix}$$\n",
    "\n",
    "where:\n",
    "- $nq$ is the number of flow branches, $nq = 7$;\n",
    "- $R_0 = R_{cv,out} + R_{cd,beech} / 4$ ; \n",
    "- $R_1 = R_{cd,beech} / 2$; \n",
    "- $R_2 = R_{cd,beech} / 4 + R_{cd,insulation} / 4$;\n",
    "- $R_3 = R_{cd,insulation} / 2$; \n",
    "- $R_4 = R_{cd,insulation} / 4 + R_{cd,oak} / 4$;\n",
    "- $R_5 = R_{cd,oak} / 2$;\n",
    "- $R_6 = R_{cd,oak} / 4$ ; \n",
    "\n",
    "*Note*: each branch of the network needs to have a resistance (or a conductance)."
   ]
  },
  {
   "cell_type": "code",
   "execution_count": 11,
   "metadata": {
    "tags": []
   },
   "outputs": [],
   "source": [
    "# Conductance matrix (big wall)\n",
    "R = np.zeros([no_q])\n",
    "R[0] = R_cv['out'] + R_cd['Beech'] / 4\n",
    "R[1] = R_cd['Beech'] / 2\n",
    "R[2] = R_cd['Beech'] / 4 + R_cd['Insulation'] / 4\n",
    "R[3] = R_cd['Insulation'] / 2\n",
    "R[4] = R_cd['Insulation'] / 4 + R_cd['Oak']/4\n",
    "R[5] = R_cd['Oak'] / 2\n",
    "R[6] = R_cd['Oak'] / 4 \n",
    "G_big = np.diag(np.reciprocal(R))"
   ]
  },
  {
   "cell_type": "markdown",
   "metadata": {
    "tags": []
   },
   "source": [
    "### Capacity matrix **C**\n",
    "The capacities are grouped in the capacity matrix, which is diagonal:\n",
    "$$C = \\begin{bmatrix}\n",
    "C_0 &  &  & \\\\ \n",
    " & C_1 &  & \\\\ \n",
    " &  & ... & \\\\ \n",
    " &  &  & C_{nt}\n",
    "\\end{bmatrix}$$\n",
    "\n",
    "where:\n",
    "- $nt$ is the number of temperature nodes, $nt = 7$;\n",
    "\n",
    "*Note*: not every temperature node needs to have a capacity. The capacity of a surface is zero, since its volume and, consequently, its mass are zero."
   ]
  },
  {
   "cell_type": "code",
   "execution_count": 12,
   "metadata": {},
   "outputs": [],
   "source": [
    "C_big = np.zeros(no_t)\n",
    "C_big = np.diag([0,C_wall['Beech'],0,C_wall['Insulation'],0,C_wall['Oak'],0])\n"
   ]
  },
  {
   "cell_type": "markdown",
   "metadata": {
    "tags": []
   },
   "source": [
    "### Arc-node incidence matrix $A$\n",
    "The rows in the incidence matrix $A$ corespond to the branches containing the heat flow rates $q_k$ across the resistances $R_k$ and the columns correspond to the temperature nodes $\\theta_l$. In the row corresponding to the branch $R_k$ in the position of the node $\\theta_l$ there is -1 if the flow $q_k$ leaves the node, +1 if the flow $q_k$ enters into the node $\\theta_k$ and 0 if the resistance $R_k$ is not connected to the temperature node $\\theta_k$ [Ghiaus, 2013]:\n",
    "\n",
    "$$a_{kl} = \\begin{cases}\n",
    "\\phantom{-} 0 & \\text{if flow branch } q_k \\text{ is not connected to the temperature node }  \\theta_l \\\\ \n",
    "+1 & \\text{if flow branch } q_k \\text{ enters into the temperature node }  \\theta_l\\\\ \n",
    "-1 & \\text{if flow branch } q_k \\text{ gets out of the temperature node }  \\theta_l \n",
    "\\end{cases}$$\n",
    "\n",
    "The matrix -$A$ is a difference operator for the temperatures: $e = -A \\theta$ is the vector of differences between temperatures connected by resistances [Ghiaus, 2013]."
   ]
  },
  {
   "cell_type": "code",
   "execution_count": 13,
   "metadata": {
    "tags": []
   },
   "outputs": [
    {
     "name": "stdout",
     "output_type": "stream",
     "text": [
      "[[ 1. -0. -0. -0. -0. -0. -0.]\n",
      " [-1.  1. -0. -0. -0. -0. -0.]\n",
      " [-0. -1.  1. -0. -0. -0. -0.]\n",
      " [-0. -0. -1.  1. -0. -0. -0.]\n",
      " [-0. -0. -0. -1.  1. -0. -0.]\n",
      " [-0. -0. -0. -0. -1.  1. -0.]\n",
      " [-0. -0. -0. -0. -0. -1.  1.]]\n"
     ]
    }
   ],
   "source": [
    "A = np.eye(no_q, no_t + 1)\n",
    "A = -np.diff(A, n=1, axis=1)\n",
    "print(A)"
   ]
  },
  {
   "cell_type": "markdown",
   "metadata": {},
   "source": [
    "### Vectors of temperature sources **b** and flows **f**\n",
    "First, we will set all the temperature sources **b** and flow sources **f** to zero, then we define unitary values for **b** and **f**:"
   ]
  },
  {
   "cell_type": "code",
   "execution_count": 14,
   "metadata": {},
   "outputs": [],
   "source": [
    "b = np.zeros(no_q)\n",
    "f = np.zeros(no_t)\n",
    "\n",
    "f[0] = f[-1] = 1\n",
    "b[0] = 1\n",
    "y = np.zeros(no_t)"
   ]
  },
  {
   "cell_type": "markdown",
   "metadata": {},
   "source": [
    "## Small wall"
   ]
  },
  {
   "cell_type": "code",
   "execution_count": 15,
   "metadata": {},
   "outputs": [],
   "source": [
    "# conduction\n",
    "R_cd = wall['Width'] / (wall['Conductivity'] * S_wall)\n",
    "\n",
    "# convection\n",
    "R_cv = 1 / (h * S_wall)\n",
    "R_in_small = R_cv['in']\n",
    "\n",
    "# Conductance matrix\n",
    "R = np.zeros([no_q])\n",
    "R[0] = R_cv['out'] + R_cd['Beech'] / 4\n",
    "R[1] = R_cd['Beech'] / 2\n",
    "R[2] = R_cd['Beech'] / 4 + R_cd['Insulation'] / 4\n",
    "R[3] = R_cd['Insulation'] / 2\n",
    "R[4] = R_cd['Insulation'] / 4 + R_cd['Oak']/4\n",
    "R[5] = R_cd['Oak'] / 2\n",
    "R[6] = R_cd['Oak'] / 4\n",
    "G_small = np.diag(np.reciprocal(R))\n",
    "\n",
    "# Capacity matrix\n",
    "C_small = np.zeros(no_t)\n",
    "C_small = np.diag([0,C_wall['Beech'],0,C_wall['Insulation'],0,C_wall['Oak'],0])"
   ]
  },
  {
   "cell_type": "markdown",
   "metadata": {},
   "source": [
    "## Roof"
   ]
  },
  {
   "cell_type": "code",
   "execution_count": 16,
   "metadata": {},
   "outputs": [],
   "source": [
    "# conduction\n",
    "R_cd = wall['Width'] / (wall['Conductivity'] * S_roof)\n",
    "\n",
    "# convection\n",
    "R_cv = 1 / (h * S_roof)\n",
    "R_in_roof = R_cv['in']\n",
    "                        \n",
    "# Conductance matrix\n",
    "R = np.zeros([no_q])\n",
    "R[0] = R_cv['out'] + R_cd['Brick'] / 4\n",
    "R[1] = R_cd['Brick'] / 2\n",
    "R[2] = R_cd['Brick'] / 4 + R_cd['Insulation'] / 4\n",
    "R[3] = R_cd['Insulation'] / 2\n",
    "R[4] = R_cd['Insulation'] / 4 + R_cd['Oak']/4\n",
    "R[5] = R_cd['Oak'] / 2\n",
    "R[6] = R_cd['Oak'] / 4\n",
    "G_roof = np.diag(np.reciprocal(R) )\n",
    "\n",
    "C_roof = np.zeros(no_t)                      \n",
    "C_roof = np.diag([0,C_wall_roof['Brick'],0,C_wall_roof['Insulation'],0,C_wall_roof['Oak'],0])"
   ]
  },
  {
   "cell_type": "markdown",
   "metadata": {},
   "source": [
    "## Glass window"
   ]
  },
  {
   "cell_type": "code",
   "execution_count": 17,
   "metadata": {},
   "outputs": [],
   "source": [
    "no_t = no_q = 2\n",
    "\n",
    "# conduction\n",
    "R_cd = wall['Width'] / (wall['Conductivity'] * S_wall_big)\n",
    "\n",
    "# convection\n",
    "R_cv = 1/(h * S_wall_big)\n",
    "R_in_glass = R_cv['in']\n",
    "\n",
    "R = np.zeros([no_q])\n",
    "R[0] = R_cv['out'] + R_cd['Glass'] / 2\n",
    "R[1] = R_cd['Glass'] / 2\n",
    "G_glass = np.diag(np.reciprocal(R))                      \n",
    "                        \n",
    "C_glass = np.zeros([no_t,no_q])\n",
    "\n",
    "A_glass = np.eye(no_q, no_t + 1)\n",
    "A_glass = -np.diff(A_glass, n=1, axis=1)\n",
    "\n",
    "b_glass = np.zeros(no_q)\n",
    "f_glass = np.zeros(no_t)\n",
    "y_glass = np.zeros(no_t)\n",
    "\n",
    "b_glass[0] = 1\n",
    "y_glass[-1] = 1"
   ]
  },
  {
   "cell_type": "markdown",
   "metadata": {},
   "source": [
    "## Convection circuit"
   ]
  },
  {
   "cell_type": "code",
   "execution_count": 18,
   "metadata": {},
   "outputs": [],
   "source": [
    "no_t = 7\n",
    "no_q = 6\n",
    "\n",
    "R_cv = 1 / (h * S_wall_big)\n",
    "R_in_big = R_cv['in']\n",
    "\n",
    "R = np.zeros([no_q])\n",
    "R[0] = R_in_big\n",
    "R[1] = R_in_small\n",
    "R[2] = R_in_glass\n",
    "R[3] = R_in_small\n",
    "R[4] = R_in_roof\n",
    "R[5] = R_in_roof\n",
    "G_cv = np.diag(np.reciprocal(R))\n",
    "\n",
    "A_cv = np.zeros([no_q,no_t])\n",
    "for k in range(no_q):\n",
    "    for i in range(no_t + 1):\n",
    "        if k == i:\n",
    "            A_cv[k,i] = -1;\n",
    "        if i == 6:\n",
    "            A_cv[k,i] = 1\n",
    "\n",
    "C_cv = np.zeros(no_t)\n",
    "C_cv[-1] = Ca/2 \n",
    "C_cv = np.diag(C_cv)\n",
    "\n",
    "b_cv = np.zeros(no_q)\n",
    "f_cv = np.zeros(no_t)\n",
    "y_cv = np.zeros(no_t)\n",
    "y_cv[-1] = 1;\n"
   ]
  },
  {
   "cell_type": "markdown",
   "metadata": {},
   "source": [
    "## Ventilation and control system circuit"
   ]
  },
  {
   "cell_type": "code",
   "execution_count": 19,
   "metadata": {},
   "outputs": [],
   "source": [
    "A_vc = np.array([[1],\n",
    "                  [1]])\n",
    "G_vc = np.diag(np.array([Gv, Kp]))\n",
    "b_vc = np.array([1, 1])\n",
    "C_vc = np.array([Ca/2])\n",
    "f_vc = 1\n",
    "y_vc = 1"
   ]
  },
  {
   "cell_type": "markdown",
   "metadata": {},
   "source": [
    "## Assembling circuits"
   ]
  },
  {
   "cell_type": "code",
   "execution_count": 20,
   "metadata": {},
   "outputs": [],
   "source": [
    "TC_North_wall = {'A': A, 'G': G_big, 'b': b, 'C': C_big, 'f': f, 'y': y}\n",
    "\n",
    "TC_East_wall = {'A': A, 'G': G_small, 'b': b, 'C': C_small, 'f': f, 'y': y}\n",
    "\n",
    "TC_West_wall = {'A': A, 'G': G_small, 'b': b, 'C': C_small, 'f': f, 'y': y}\n",
    "\n",
    "TC_South_wall = {'A': A_glass, 'G': G_glass, 'b': b_glass, 'C': C_glass, 'f': f_glass, 'y': y_glass}\n",
    "\n",
    "TC_East_roof = {'A': A, 'G': G_roof, 'b': b, 'C': C_roof, 'f': f, 'y': y}\n",
    "\n",
    "TC_West_roof = {'A': A, 'G': G_roof, 'b': b, 'C': C_roof, 'f': f, 'y': y}\n",
    "\n",
    "TC_CV = {'A': A_cv, 'G': G_cv, 'b': b_cv, 'C': C_cv, 'f': f_cv, 'y': y_cv}\n",
    "\n",
    "TC_VC = {'A': A_vc, 'G': G_vc, 'b': b_vc, 'C': C_vc, 'f': f_vc, 'y': y_vc}\n"
   ]
  },
  {
   "cell_type": "markdown",
   "metadata": {},
   "source": [
    "## Total circuit and assembling matrix "
   ]
  },
  {
   "cell_type": "markdown",
   "metadata": {},
   "source": [
    "The picture below shows the total assembled thermal circuit:"
   ]
  },
  {
   "cell_type": "markdown",
   "metadata": {},
   "source": [
    "![cube](indoor_node_image.PNG)\n"
   ]
  },
  {
   "cell_type": "code",
   "execution_count": 21,
   "metadata": {},
   "outputs": [],
   "source": [
    "TCd = {'0': TC_North_wall,\n",
    "       '1': TC_East_wall,\n",
    "       '2': TC_South_wall,\n",
    "       '3': TC_West_wall,\n",
    "       '4': TC_East_roof,\n",
    "       '5': TC_West_roof,\n",
    "       '6': TC_CV,\n",
    "       '7': TC_VC}\n",
    "\n",
    "# Assembling matrix\n",
    "\n",
    "AssX = np.array([[0, 6, 6, 0],\n",
    "                   [1, 6, 6, 1],\n",
    "                   [2, 1, 6, 2],\n",
    "                   [3, 6, 6, 3],\n",
    "                   [4, 6, 6, 4],\n",
    "                   [5, 6, 6, 5],\n",
    "                   [6, 6, 7, 0]])\n",
    "\n",
    "\n",
    "TCa = dm4bem.TCAss(TCd, AssX)\n"
   ]
  },
  {
   "cell_type": "markdown",
   "metadata": {
    "tags": []
   },
   "source": [
    "Their values will be changed depending on the conditions.\n",
    "\n",
    "The system of Algebraic-Differential Equations is:\n",
    "\n",
    "$$C\\dot{\\theta} = -A^T G A \\theta + A^T G b + f$$\n",
    "\n",
    "## Steady state solution\n",
    "\n",
    "The solution in steady-state is:\n",
    "\n",
    "$$\\theta = (A^T G A)^{-1}(A^T G b + f)$$\n",
    "\n",
    "$$q = G (-A \\theta + b)$$ \n",
    "\n",
    "We will consider one steady state: \n",
    " The outdoor temperature is 1 °C, $b_0 = 1$."
   ]
  },
  {
   "cell_type": "code",
   "execution_count": 22,
   "metadata": {},
   "outputs": [
    {
     "name": "stdout",
     "output_type": "stream",
     "text": [
      "When To = 1°C, the temperatures in steady-state are: [1.0 1.0000000000000002 1.0000000000000004 1.0000000000000013\n",
      " 1.0000000000000018 1.0000000000000018 1.000000000000002 1.0 1.0\n",
      " 1.0000000000000004 1.0000000000000013 1.0000000000000018\n",
      " 1.0000000000000018 1.000000000000002 1.000000000000016 1.0000000000000158\n",
      " 1.0 1.0 1.0000000000000004 1.0000000000000013 1.0000000000000018\n",
      " 1.0000000000000018 1.000000000000002 1.0000000000000002\n",
      " 1.0000000000000007 1.0000000000000013 1.0000000000000018\n",
      " 1.0000000000000022 1.0000000000000024 1.0000000000000022\n",
      " 1.0000000000000002 1.0000000000000007 1.0000000000000013\n",
      " 1.0000000000000018 1.0000000000000022 1.0000000000000024\n",
      " 1.0000000000000022 1.0000000000000024]\n",
      "The indoor temperature is: 1.000 °C\n"
     ]
    }
   ],
   "source": [
    "b[0] = 1\n",
    "T_ss = np.linalg.inv(TCa['A'].T@TCa['G']@TCa['A'])@(TCa['A'].T@TCa['G']@TCa['b'])\n",
    "\n",
    "print('When To = 1°C, the temperatures in steady-state are:', T_ss)\n",
    "print(f'The indoor temperature is: {T_ss[-1]:.3f} °C')"
   ]
  },
  {
   "cell_type": "markdown",
   "metadata": {
    "tags": []
   },
   "source": [
    "## State-space model\n",
    "If the matrix $C$ is invertible (or non-singular), then the Differential-algebraic system of equations\n",
    "\n",
    "$$C\\dot{\\theta} = -A^T G A \\theta + A^T G b + f$$\n",
    "\n",
    "can be put in the state-space representation\n",
    "\n",
    "$$\\left\\{\\begin{array}{rr}\n",
    "\\dot{\\theta}=A_s \\theta + B_s u\\\\ \n",
    "y = C_s \\theta + D_s u\n",
    "\\end{array}\\right.$$\n",
    "\n",
    "where:\n",
    "- $u = \\begin{bmatrix} b \\\\ f\\end{bmatrix}$ is the vector of inputs (temperature sources $b$ and flow sources $f$);\n",
    "- $A_s = -C^{-1} A^T G A$ is the state matrix, $\\dim A = n_\\theta \\times n_\\theta$;\n",
    "- $B_s = C^{-1}\\begin{bmatrix}\n",
    "A^T G & I\n",
    "\\end{bmatrix}$ is the input matrix, $\\dim B = n_\\theta \\times n_u$;\n",
    "- $C_s = \\begin{bmatrix} 0 & 0 & ... &1 \\end{bmatrix}$ is the output matrix, $\\dim C = 1 \\times n_\\theta$;\n",
    "- $D_s = \\begin{bmatrix} 0 & 0 & ... &0 \\end{bmatrix}$ is the feedthrough (or feedforward matrix, $\\dim D = 1 \\times n_u$.\n",
    "\n",
    "The first equation, $ \\dot{\\theta}=A_s \\theta + B_s u $, is called *state* or *system* equation and the second equation, $ y = C_s \\theta + D_s u $, is calld *observation* equation,"
   ]
  },
  {
   "cell_type": "markdown",
   "metadata": {
    "tags": []
   },
   "source": [
    "The input matrix is\n",
    "$B_s = C^{-1}\\begin{bmatrix}\n",
    "A^T G & I\n",
    "\\end{bmatrix}$"
   ]
  },
  {
   "cell_type": "code",
   "execution_count": 23,
   "metadata": {},
   "outputs": [],
   "source": [
    "## Thermal circuit -> state-space\n",
    "\n",
    "[As, Bs, Cs, Ds] = dm4bem.tc2ss(\n",
    "    TCa['A'], TCa['G'], TCa['b'], TCa['C'], TCa['f'], TCa['y'])"
   ]
  },
  {
   "cell_type": "markdown",
   "metadata": {
    "tags": []
   },
   "source": [
    "The input vector if formed by stacking the vector of temperature sources $b$ and the vector of flow sources $f$:\n",
    "$$u = \\begin{bmatrix} b \\\\ f\\end{bmatrix}$$\n",
    "\n",
    "However, many sources in the model are zero. For our example, there are only two sources: $T_o$ and $Q_h$. Therefore,\n",
    "$$b = \\begin{bmatrix}\n",
    "T_o\\\\ \n",
    "0\\\\ \n",
    "...\\\\ \n",
    "0\n",
    "\\end{bmatrix}$$\n",
    "and\n",
    "$$f = \\begin{bmatrix}\n",
    "0\\\\ \n",
    "0\\\\ \n",
    "...\\\\ \n",
    "Q_h\n",
    "\\end{bmatrix}$$\n",
    "\n",
    "Since the sources which are always zero have no influence on the outputs, they cen be neglected. Only the columns that correspond to existing sources, i.e., the 1st and the last, are kept in matix $B$: "
   ]
  },
  {
   "cell_type": "markdown",
   "metadata": {
    "tags": []
   },
   "source": [
    "## Eigenvalues, numerical stability and time-step\n",
    "\n",
    "The stability condition for explicit Euler method requires that all eigenvalues $\\lambda _i \\in \\mathbb{Z}$ of the state matrix $A$ satisfy the condition\n",
    "$$ \\left | 1 + \\lambda _i \\Delta t \\right | \\leq 1, \\forall i $$\n",
    "\n",
    "If the all eigenvalues of state matrix $A$ are real, as is the case for thermal networks, then the above condition becomes:\n",
    "$$ -2 \\leq \\lambda _i\\Delta t\\leq 0, \\forall i $$.\n",
    "\n",
    "Since the eigenvalues $\\lambda_i$ are related to time constants $T_i$,\n",
    "$$ \\lambda _i = - \\frac{1}{T_i} $$\n",
    "it results that the condition for stability is \n",
    "$$ \\Delta t \\leq \\min T_i/2 = -2 / \\min \\lambda_i $$"
   ]
  },
  {
   "cell_type": "code",
   "execution_count": 24,
   "metadata": {
    "tags": []
   },
   "outputs": [
    {
     "name": "stdout",
     "output_type": "stream",
     "text": [
      "Maximum time step: 458.24 s\n"
     ]
    }
   ],
   "source": [
    "# Maximum time-step\n",
    "\n",
    "dtmax = min(-2. / np.linalg.eig(As)[0])\n",
    "print(f'Maximum time step: {dtmax:.2f} s')"
   ]
  },
  {
   "cell_type": "markdown",
   "metadata": {},
   "source": [
    "We choose a time step smaller than the maximum admited for stability."
   ]
  },
  {
   "cell_type": "code",
   "execution_count": 25,
   "metadata": {},
   "outputs": [],
   "source": [
    "dt = 50"
   ]
  },
  {
   "cell_type": "markdown",
   "metadata": {},
   "source": [
    "## Time integration using explcit and implicit Euler methods\n",
    "We will study the dynamics reponse of the of the model to: \n",
    "- a step variation of a source (outdoor temperature $T_o$ or indoor flow $Q_h$);\n",
    "- variation of outdoor temperature given by weather data.\n"
   ]
  },
  {
   "cell_type": "markdown",
   "metadata": {},
   "source": [
    "Since the data is given hourly, the number of days in the simulation will be:"
   ]
  },
  {
   "cell_type": "code",
   "execution_count": 26,
   "metadata": {},
   "outputs": [],
   "source": [
    "days = T_out.shape[0] / 24"
   ]
  },
  {
   "cell_type": "markdown",
   "metadata": {},
   "source": [
    "The number of steps and the time vector will be"
   ]
  },
  {
   "cell_type": "code",
   "execution_count": 27,
   "metadata": {},
   "outputs": [],
   "source": [
    "# number of steps\n",
    "n = int(np.ceil(3600 / dt * 24 * days))\n",
    "no_q = As.shape[0]\n",
    "no_t = As.shape[1]\n",
    "no_Q = int(Bs.shape[0])\n",
    "no_T = int(Bs.shape[1])\n",
    "\n",
    "# time\n",
    "t = np.arange(0, n * dt, dt)"
   ]
  },
  {
   "cell_type": "markdown",
   "metadata": {
    "tags": []
   },
   "source": [
    "### Step input: outdoor temperature $T_o$\n",
    "\n",
    "Let's consider that the outdoor temperature $T_o$ has a step variation of 1°C (the indoor heat flow is zero, $Q_h = 0$:"
   ]
  },
  {
   "cell_type": "code",
   "execution_count": 28,
   "metadata": {},
   "outputs": [],
   "source": [
    "u = np.block([[np.ones([8, n])],\n",
    "              [np.zeros([11, n])]])"
   ]
  },
  {
   "cell_type": "markdown",
   "metadata": {},
   "source": [
    "We initialize to zero the temperature vector for explicit and implicit Euler."
   ]
  },
  {
   "cell_type": "code",
   "execution_count": 29,
   "metadata": {},
   "outputs": [],
   "source": [
    "# initial values for temperatures obtained by explicit and implicit Euler\n",
    "temp_exp = np.zeros([no_t, t.shape[0]])\n",
    "temp_imp = np.zeros([no_t, t.shape[0]])"
   ]
  },
  {
   "cell_type": "markdown",
   "metadata": {
    "tags": []
   },
   "source": [
    "The formula for Euler forward (or explicit) integration is\n",
    "$$ \\theta_{k+1} = (I + \\Delta t A) \\theta _k + \\Delta t B u_k $$\n",
    "and for Euler backward (or implicit) integration it is\n",
    "$$\\theta_{k+1} = (I - \\Delta t A)^{-1} ( \\theta _k + \\Delta t B u_k )$$"
   ]
  },
  {
   "cell_type": "code",
   "execution_count": 30,
   "metadata": {},
   "outputs": [],
   "source": [
    "for k in range(t.shape[0] - 1):\n",
    "    temp_exp[:, k + 1] = (np.eye(no_t) + dt * As) @\\\n",
    "        temp_exp[:, k] + dt * Bs @ u[:, k]\n",
    "    temp_imp[:, k + 1] = np.linalg.inv(np.eye(no_t) - dt * As) @\\\n",
    "        (temp_imp[:, k] + dt * Bs @ u[:, k])\n"
   ]
  },
  {
   "cell_type": "code",
   "execution_count": 31,
   "metadata": {},
   "outputs": [
    {
     "data": {
      "text/plain": [
       "<matplotlib.legend.Legend at 0x1b0e8e6f700>"
      ]
     },
     "execution_count": 31,
     "metadata": {},
     "output_type": "execute_result"
    },
    {
     "data": {
      "image/png": "[encoded data removed]",
      "text/plain": [
       "<Figure size 432x288 with 1 Axes>"
      ]
     },
     "metadata": {
      "needs_background": "light"
     },
     "output_type": "display_data"
    }
   ],
   "source": [
    "fig, ax = plt.subplots()\n",
    "ax.plot(t / 3600, temp_exp[-1, :], t / 3600, temp_imp[-1, :])\n",
    "ax.set(xlabel='Time [h]', ylabel='Air temperature [°C]', title='Step input: $T_o$')\n",
    "ax.legend(['Explicit', 'Implicit'])"
   ]
  },
  {
   "cell_type": "markdown",
   "metadata": {
    "tags": []
   },
   "source": [
    "### Step input: indoor heat flow $Q_h$\n",
    "\n",
    "Let's consider that the outdoor temperature $Q_h$ has a step variation of 1 W (the outdoor temperature is zero, $T_o = 0$:"
   ]
  },
  {
   "cell_type": "code",
   "execution_count": 32,
   "metadata": {},
   "outputs": [],
   "source": [
    "u = np.block([[np.ones([8, n])],\n",
    "              [np.zeros([11, n])]])"
   ]
  },
  {
   "cell_type": "markdown",
   "metadata": {},
   "source": [
    "We initialize again to zero the temperature vector for explicit and implicit Euler."
   ]
  },
  {
   "cell_type": "code",
   "execution_count": 33,
   "metadata": {},
   "outputs": [],
   "source": [
    "temp_exp = np.zeros([no_t, t.shape[0]])\n",
    "temp_imp = np.zeros([no_t, t.shape[0]])"
   ]
  },
  {
   "cell_type": "markdown",
   "metadata": {},
   "source": [
    "The formula for Euler forward (or explicit) integration is\n",
    "$$ \\theta_{k+1} = (I + \\Delta t A) \\theta _k + \\Delta t B u_k $$\n",
    "and for Euler backward (or implicit) integration it is\n",
    "$$\\theta_{k+1} = (I - \\Delta t A)^{-1} ( \\theta _k + \\Delta t B u_k )$$"
   ]
  },
  {
   "cell_type": "code",
   "execution_count": 34,
   "metadata": {},
   "outputs": [],
   "source": [
    "for k in range(t.shape[0] - 1):\n",
    "    temp_exp[:, k + 1] = (np.eye(no_t) + dt * As) @\\\n",
    "        temp_exp[:, k] + dt * Bs @ u[:, k]\n",
    "    temp_imp[:, k + 1] = np.linalg.inv(np.eye(no_t) - dt * As) @\\\n",
    "        (temp_imp[:, k] + dt * Bs @ u[:, k])"
   ]
  },
  {
   "cell_type": "code",
   "execution_count": 35,
   "metadata": {},
   "outputs": [
    {
     "data": {
      "text/plain": [
       "<matplotlib.legend.Legend at 0x1b0e9593a00>"
      ]
     },
     "execution_count": 35,
     "metadata": {},
     "output_type": "execute_result"
    },
    {
     "data": {
      "image/png": "[encoded data removed]",
      "text/plain": [
       "<Figure size 432x288 with 1 Axes>"
      ]
     },
     "metadata": {
      "needs_background": "light"
     },
     "output_type": "display_data"
    }
   ],
   "source": [
    "fig, ax = plt.subplots()\n",
    "ax.plot(t / 3600, temp_exp[-1, :], t / 3600, temp_imp[-1, :])\n",
    "ax.set(xlabel='Time [h]', ylabel='Air temperature [°C]', title='Step input: $Q_h$')\n",
    "ax.legend(['Explicit', 'Implicit'])"
   ]
  },
  {
   "cell_type": "markdown",
   "metadata": {
    "tags": []
   },
   "source": [
    "### Simulation with outdoor temperature, $T_o$, from Zermatt weather data\n",
    "\n",
    "Time vector (in seconds) for weather data:"
   ]
  },
  {
   "cell_type": "code",
   "execution_count": 36,
   "metadata": {},
   "outputs": [],
   "source": [
    "# time for weather (in seconds)\n",
    "tw = np.arange(0, 3600 * T_out.shape[0], 3600)\n",
    "# change the timestep from 1h to dt\n",
    "t = np.arange(0, 3600 * T_out.shape[0], dt)\n",
    "# outdoor temperature at timestep dt\n",
    "T0 = np.interp(t, tw, T_out['temp_air'])\n",
    "n_T = T0.shape[0]\n",
    "Tsp = 20*np.ones([1, n_T])\n",
    "Tm = (T0*Gv + Tsp*Kp)/(Gv + Kp)\n",
    "n_T = T0.shape[0]\n",
    "\n",
    "radN = np.interp(t, tw, rad_N['0'])\n",
    "radE = np.interp(t, tw, rad_E['0'])\n",
    "radS = np.interp(t, tw, rad_S['0'])\n",
    "radW = np.interp(t, tw, rad_W['0'])\n",
    "radER = np.interp(t, tw, rad_ER['0'])\n",
    "radWR = np.interp(t, tw, rad_WR['0'])\n",
    "\n",
    "n_r = radS.shape[0]\n",
    "rad_in = Qa*np.ones([1, n_r]) + 0.85*radS/6"
   ]
  },
  {
   "cell_type": "markdown",
   "metadata": {},
   "source": [
    "Form the input vector $u$ from outdoor temperature and indoor heat flow $Q_h$, which is zero:"
   ]
  },
  {
   "cell_type": "code",
   "execution_count": 37,
   "metadata": {},
   "outputs": [],
   "source": [
    "u = np.block([[T0],\n",
    "              [T0],\n",
    "              [T0],\n",
    "              [T0],\n",
    "              [T0],\n",
    "              [T0],\n",
    "              [T0],\n",
    "             [Tsp],\n",
    "             [radN],\n",
    "             [0.85*radS/6],\n",
    "             [radE],\n",
    "             [0.85*radS/6],\n",
    "             [radW],\n",
    "             [0.85*radS/6],\n",
    "             [radER],\n",
    "             [0.85*radS/6],\n",
    "             [radWR],\n",
    "             [0.85*radS/6],\n",
    "             [rad_in]])"
   ]
  },
  {
   "cell_type": "markdown",
   "metadata": {
    "tags": []
   },
   "source": [
    "Initialize the temperature vectors for explicit and implicit Euler and integrate."
   ]
  },
  {
   "cell_type": "code",
   "execution_count": 38,
   "metadata": {},
   "outputs": [],
   "source": [
    "temp_exp = np.zeros([no_t, n])\n",
    "temp_imp = np.zeros([no_t, n])\n",
    "temp_exp = np.zeros([no_t, t.shape[0]])\n",
    "temp_imp = np.zeros([no_t, t.shape[0]])\n",
    "\n",
    "for k in range(n - 1):\n",
    "    temp_exp[:, k + 1] = (np.eye(no_t) + dt * As) @\\\n",
    "        temp_exp[:, k] + dt * Bs @ u[:, k]\n",
    "    temp_imp[:, k + 1] = np.linalg.inv(np.eye(no_t) - dt * As) @\\\n",
    "        (temp_imp[:, k] + dt * Bs @ u[:, k])"
   ]
  },
  {
   "cell_type": "code",
   "execution_count": 39,
   "metadata": {},
   "outputs": [
    {
     "data": {
      "image/png": "[encoded data removed]",
      "text/plain": [
       "<Figure size 432x288 with 2 Axes>"
      ]
     },
     "metadata": {
      "needs_background": "light"
     },
     "output_type": "display_data"
    }
   ],
   "source": [
    "fig, axs = plt.subplots(2, 1)\n",
    "\n",
    "axs[0].plot(t / 3600, temp_exp[-1, :],\n",
    "               t / 3600, T0)\n",
    "axs[0].set_xlabel('Time [hours]')\n",
    "axs[0].set_ylabel('Air temperature [°C]')\n",
    "axs[0].set_title('Explicit Euler')\n",
    "\n",
    "axs[1].plot(t / 3600, temp_imp[-1, :],\n",
    "               t / 3600, T0)\n",
    "axs[1].set_xlabel('Time [hours]')\n",
    "axs[1].set_ylabel('Air temperature [°C]')\n",
    "axs[1].set_title('Implicit Euler')\n",
    "\n",
    "fig.tight_layout()"
   ]
  },
  {
   "cell_type": "markdown",
   "metadata": {},
   "source": [
    "## Remarks"
   ]
  },
  {
   "cell_type": "markdown",
   "metadata": {},
   "source": [
    "The time step depends on:\n",
    "\n",
    "- P-controller gain `Kp`:\n",
    "    - if $K_p \\rightarrow \\infty$, then the controller is perfect and the time step needs to be small;\n",
    "    - if $K_p \\rightarrow 0$, then,the controller is inefffective and the building is in free-running.\n",
    "- Capacities considered into the model:\n",
    "    - if the capacities of the air $C_a =$ `C['Air']` and $C_g =$ `C['Glass']`are considered, then the time step is small;\n",
    "    - if the capacities of the air and of the glas are zero, then the time step is large.\n",
    "\n",
    "The controller models an HVAC system capable to heat (when $q_{HVAC} > 0$) and to cool $q_{HVAC} < 0$)."
   ]
  },
  {
   "cell_type": "markdown",
   "metadata": {
    "tags": []
   },
   "source": [
    "**References**\n",
    "\n",
    "C. Ghiaus (2013) Causality issue in the heat balance method for calculating the design heating and cooling loads, *Energy* 50: 292-301, https://doi.org/10.1016/j.energy.2012.10.024\n"
   ]
  }
 ],
 "metadata": {
  "kernelspec": {
   "display_name": "Python 3",
   "language": "python",
   "name": "python3"
  },
  "language_info": {
   "codemirror_mode": {
    "name": "ipython",
    "version": 3
   },
   "file_extension": ".py",
   "mimetype": "text/x-python",
   "name": "python",
   "nbconvert_exporter": "python",
   "pygments_lexer": "ipython3",
   "version": "3.8.5"
  }
 },
 "nbformat": 4,
 "nbformat_minor": 5
}
